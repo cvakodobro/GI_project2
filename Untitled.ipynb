{
 "cells": [
  {
   "cell_type": "code",
   "execution_count": 1,
   "metadata": {},
   "outputs": [
    {
     "name": "stdout",
     "output_type": "stream",
     "text": [
      "Total number of reads: 2921629\n",
      "Number of unmapped reads: 17765\n",
      "Num of reads mapq==0: 126628\n",
      "Avg mapp quality: 55.91379158681681\n",
      "Avg mapp quality non zero values: 58.446975510921106\n"
     ]
    }
   ],
   "source": [
    "import pysam\n",
    "\n",
    "samfile = pysam.AlignmentFile(\"/sbgenomics/project-files/merged-tumor.bam\", \"rb\")\n",
    "num_of_reads=0\n",
    "num_of_mapq=0\n",
    "mapq_avg_zero=0\n",
    "mapq_avg_nonzero=0\n",
    "num=0\n",
    "num_of_unmapped=0\n",
    "\n",
    "for read in samfile.fetch(until_eof=True):\n",
    "    num_of_reads+=1\n",
    "    \n",
    "    if read.is_unmapped:\n",
    "        num_of_unmapped+=1\n",
    "        \n",
    "        \n",
    "    flag=read.flag\n",
    "    mapq=read.mapq\n",
    "\n",
    "    mapq_avg_zero+=mapq\n",
    "    if mapq==0:\n",
    "        num_of_mapq+=1\n",
    "    \n",
    "    if mapq!=0:\n",
    "        num+=1\n",
    "        mapq_avg_nonzero+=mapq\n",
    "    \n",
    "    \n",
    "print(\"Total number of reads:\", num_of_reads)\n",
    "print(\"Number of unmapped reads:\", num_of_unmapped)\n",
    "print(\"Num of reads mapq==0:\", num_of_mapq)\n",
    "print(\"Avg mapp quality:\", mapq_avg_zero/(num_of_reads))\n",
    "print(\"Avg mapp quality non zero values:\", mapq_avg_nonzero/num)\n",
    "\n"
   ]
  },
  {
   "cell_type": "code",
   "execution_count": null,
   "metadata": {},
   "outputs": [],
   "source": []
  }
 ],
 "metadata": {
  "kernelspec": {
   "display_name": "Python 3",
   "language": "python",
   "name": "python3"
  },
  "language_info": {
   "codemirror_mode": {
    "name": "ipython",
    "version": 3
   },
   "file_extension": ".py",
   "mimetype": "text/x-python",
   "name": "python",
   "nbconvert_exporter": "python",
   "pygments_lexer": "ipython3",
   "version": "3.6.3"
  }
 },
 "nbformat": 4,
 "nbformat_minor": 2
}
